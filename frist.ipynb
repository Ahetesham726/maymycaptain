{
 "cells": [
  {
   "cell_type": "code",
   "execution_count": 26,
   "metadata": {},
   "outputs": [
    {
     "output_type": "stream",
     "name": "stdout",
     "text": "my frist assignment\nfibonacci series\nfibonacci series :\n0\n1\n1\n2\n3\n5\n8\n13\n21\n34\n55\n89\n144\n"
    }
   ],
   "source": [
    "print(\"my frist assignment\")\n",
    "print(\"fibonacci series\")\n",
    "nterms=int(input(\"number of terms=\"))\n",
    "n1,n2=0,1\n",
    "count=0\n",
    "if nterms<=0:\n",
    "    print(\"please enter positive number\")\n",
    "elif nterms == 1:\n",
    "        print(\"fibonacci upto\",nterms,\":\")\n",
    "        print(n1)\n",
    "else:\n",
    "            print(\"fibonacci series :\")\n",
    "            while count<nterms:\n",
    "                print(n1)\n",
    "                nth=n1+n2\n",
    "                n1=n2\n",
    "                n2=nth\n",
    "                count += 1\n",
    "                print(--)\n",
    "\n"
   ]
  }
 ],
 "metadata": {
  "language_info": {
   "codemirror_mode": {
    "name": "ipython",
    "version": 3
   },
   "file_extension": ".py",
   "mimetype": "text/x-python",
   "name": "python",
   "nbconvert_exporter": "python",
   "pygments_lexer": "ipython3",
   "version": "3.8.2-final"
  },
  "orig_nbformat": 2,
  "kernelspec": {
   "name": "python38264bitf0580ca21f34489581fca362d6dc9156",
   "display_name": "Python 3.8.2 64-bit"
  }
 },
 "nbformat": 4,
 "nbformat_minor": 2
}