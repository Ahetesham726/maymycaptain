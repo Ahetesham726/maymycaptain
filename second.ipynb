{
 "cells": [
  {
   "cell_type": "code",
   "execution_count": 20,
   "metadata": {},
   "outputs": [
    {
     "output_type": "stream",
     "name": "stdout",
     "text": "assigning elements to lists\nthe original list is:[1, 4, 5, 6, 7, 3]\nthe variables are:4 6 3\n"
    }
   ],
   "source": [
    "print(\"assigning elements to lists\")\n",
    "list=[1,4,5,6,7,3]\n",
    "print(\"the original list is:\"+str(list))\n",
    "var1,var2,var3=[list[i]for i in (1,3,5)]\n",
    "print (\"the variables are:\" +str(var1)+\n",
    "                          \" \"+str(var2)+\n",
    "                          \" \"+str(var3) )"
   ]
  },
  {
   "cell_type": "code",
   "execution_count": 21,
   "metadata": {},
   "outputs": [
    {
     "output_type": "stream",
     "name": "stdout",
     "text": "accessing elements frm a tuple\ntup1[0]: physics\ntup2[1:5] (2, 3, 4, 5)\n"
    }
   ],
   "source": [
    "print(\"accessing elements frm a tuple\")\n",
    "tup1=('physics','chemistry',1997,2000);\n",
    "tup2=(1,2,3,4,5,6,7);\n",
    "print(\"tup1[0]:\",tup1[0])\n",
    "print (\"tup2[1:5]\",tup2[1:5])"
   ]
  },
  {
   "cell_type": "code",
   "execution_count": 22,
   "metadata": {},
   "outputs": [
    {
     "output_type": "stream",
     "name": "stdout",
     "text": "deleting items from dictionary \n{1: 'hello', 2: 'world'}\n"
    }
   ],
   "source": [
    "print(\"deleting items from dictionary \")\n",
    "listdic={1:'hello',2:'world',3:'hello'}\n",
    "delete=[key for key in listdic if key==3]\n",
    "for key in delete :del listdic[key]\n",
    "print(listdic)"
   ]
  }
 ],
 "metadata": {
  "language_info": {
   "codemirror_mode": {
    "name": "ipython",
    "version": 3
   },
   "file_extension": ".py",
   "mimetype": "text/x-python",
   "name": "python",
   "nbconvert_exporter": "python",
   "pygments_lexer": "ipython3",
   "version": "3.8.2-final"
  },
  "orig_nbformat": 2,
  "kernelspec": {
   "name": "python38264bitf0580ca21f34489581fca362d6dc9156",
   "display_name": "Python 3.8.2 64-bit"
  }
 },
 "nbformat": 4,
 "nbformat_minor": 2
}